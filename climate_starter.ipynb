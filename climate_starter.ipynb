{
 "cells": [
  {
   "cell_type": "code",
   "execution_count": 1,
   "metadata": {},
   "outputs": [],
   "source": [
    "%matplotlib inline\n",
    "from matplotlib import style\n",
    "style.use('fivethirtyeight')\n",
    "import matplotlib.pyplot as plt"
   ]
  },
  {
   "cell_type": "code",
   "execution_count": 2,
   "metadata": {},
   "outputs": [],
   "source": [
    "import numpy as np\n",
    "import pandas as pd\n",
    "import datetime as dt"
   ]
  },
  {
   "cell_type": "markdown",
   "metadata": {},
   "source": [
    "# Reflect Tables into SQLAlchemy ORM"
   ]
  },
  {
   "cell_type": "code",
   "execution_count": 28,
   "metadata": {},
   "outputs": [],
   "source": [
    "# Python SQL toolkit and Object Relational Mapper\n",
    "import sqlalchemy\n",
    "from sqlalchemy.ext.automap import automap_base\n",
    "from sqlalchemy.orm import Session\n",
    "from sqlalchemy import create_engine, func"
   ]
  },
  {
   "cell_type": "code",
   "execution_count": 29,
   "metadata": {},
   "outputs": [],
   "source": [
    "# create engine to hawaii.sqlite\n",
    "engine = create_engine(\"sqlite:///hawaii.sqlite\")"
   ]
  },
  {
   "cell_type": "code",
   "execution_count": 30,
   "metadata": {},
   "outputs": [],
   "source": [
    "# reflect an existing database into a new model\n",
    "Base = automap_base()\n",
    "# reflect the tables\n",
    "Base.prepare(engine, reflect=True)"
   ]
  },
  {
   "cell_type": "code",
   "execution_count": 31,
   "metadata": {},
   "outputs": [
    {
     "data": {
      "text/plain": [
       "['measurement', 'station']"
      ]
     },
     "execution_count": 31,
     "metadata": {},
     "output_type": "execute_result"
    }
   ],
   "source": [
    "# View all of the classes that automap found\n",
    "Base.classes.keys()"
   ]
  },
  {
   "cell_type": "code",
   "execution_count": 32,
   "metadata": {},
   "outputs": [],
   "source": [
    "# Save references to each table\n",
    "Measurement = Base.classes.measurement\n",
    "Station = Base.classes.station"
   ]
  },
  {
   "cell_type": "code",
   "execution_count": 33,
   "metadata": {},
   "outputs": [],
   "source": [
    "# Create our session (link) from Python to the DB\n",
    "session = Session(engine)"
   ]
  },
  {
   "cell_type": "markdown",
   "metadata": {},
   "source": [
    "# Exploratory Precipitation Analysis"
   ]
  },
  {
   "cell_type": "code",
   "execution_count": 34,
   "metadata": {},
   "outputs": [],
   "source": [
    "# Find the most recent date in the data set.\n",
    "most_recent_date = session.query(Measurement.date).order_by(Measurement.date.desc()).first()[0]"
   ]
  },
  {
   "cell_type": "code",
   "execution_count": 35,
   "metadata": {},
   "outputs": [
    {
     "data": {
      "image/png": "[encoded data removed]",
      "text/plain": [
       "<Figure size 432x288 with 1 Axes>"
      ]
     },
     "metadata": {},
     "output_type": "display_data"
    }
   ],
   "source": [
    "# Design a query to retrieve the last 12 months of precipitation data and plot the results. \n",
    "# Starting from the most recent data point in the database. \n",
    "# Calculate the date one year from the last date in data set.\n",
    "prev_year = dt.date(2017,8,23)- dt.timedelta(days=365)\n",
    "# Perform a query to retrieve the data and precipitation scores\n",
    "results = session.query(Measurement.date, Measurement.prcp).filter(Measurement.date >= prev_year).all()\n",
    "\n",
    "# Save the query results as a Pandas DataFrame and set the index to the date column\n",
    "df = pd.DataFrame(results, columns = ['date', 'precipitation'])\n",
    "\n",
    "# Sort the dataframe by date\n",
    "df.set_index(df['date'], inplace = True)\n",
    "# df.head()\n",
    "# Use Pandas Plotting with Matplotlib to plot the data\n",
    "df.plot('date', 'precipitation')\n",
    "plt.xlabel(\"Date\")\n",
    "plt.ylabel(\"Precipitation (inches)\")\n",
    "plt.title(\"Hawaii Precipitation\")\n",
    "plt.legend([\"Precipitation\"], loc='upper right')\n",
    "plt.show()"
   ]
  },
  {
   "cell_type": "code",
   "execution_count": 36,
   "metadata": {},
   "outputs": [
    {
     "data": {
      "text/html": [
       "<div>\n",
       "<style scoped>\n",
       "    .dataframe tbody tr th:only-of-type {\n",
       "        vertical-align: middle;\n",
       "    }\n",
       "\n",
       "    .dataframe tbody tr th {\n",
       "        vertical-align: top;\n",
       "    }\n",
       "\n",
       "    .dataframe thead th {\n",
       "        text-align: right;\n",
       "    }\n",
       "</style>\n",
       "<table border=\"1\" class=\"dataframe\">\n",
       "  <thead>\n",
       "    <tr style=\"text-align: right;\">\n",
       "      <th></th>\n",
       "      <th>precipitation</th>\n",
       "    </tr>\n",
       "  </thead>\n",
       "  <tbody>\n",
       "    <tr>\n",
       "      <th>count</th>\n",
       "      <td>2021.000000</td>\n",
       "    </tr>\n",
       "    <tr>\n",
       "      <th>mean</th>\n",
       "      <td>0.177279</td>\n",
       "    </tr>\n",
       "    <tr>\n",
       "      <th>std</th>\n",
       "      <td>0.461190</td>\n",
       "    </tr>\n",
       "    <tr>\n",
       "      <th>min</th>\n",
       "      <td>0.000000</td>\n",
       "    </tr>\n",
       "    <tr>\n",
       "      <th>25%</th>\n",
       "      <td>0.000000</td>\n",
       "    </tr>\n",
       "    <tr>\n",
       "      <th>50%</th>\n",
       "      <td>0.020000</td>\n",
       "    </tr>\n",
       "    <tr>\n",
       "      <th>75%</th>\n",
       "      <td>0.130000</td>\n",
       "    </tr>\n",
       "    <tr>\n",
       "      <th>max</th>\n",
       "      <td>6.700000</td>\n",
       "    </tr>\n",
       "  </tbody>\n",
       "</table>\n",
       "</div>"
      ],
      "text/plain": [
       "       precipitation\n",
       "count    2021.000000\n",
       "mean        0.177279\n",
       "std         0.461190\n",
       "min         0.000000\n",
       "25%         0.000000\n",
       "50%         0.020000\n",
       "75%         0.130000\n",
       "max         6.700000"
      ]
     },
     "execution_count": 36,
     "metadata": {},
     "output_type": "execute_result"
    }
   ],
   "source": [
    "# Use Pandas to calcualte the summary statistics for the precipitation data\n",
    "df.describe()"
   ]
  },
  {
   "cell_type": "markdown",
   "metadata": {},
   "source": [
    "# Exploratory Station Analysis"
   ]
  },
  {
   "cell_type": "code",
   "execution_count": 87,
   "metadata": {},
   "outputs": [
    {
     "data": {
      "text/plain": [
       "19550"
      ]
     },
     "execution_count": 87,
     "metadata": {},
     "output_type": "execute_result"
    }
   ],
   "source": [
    "# Design a query to calculate the total number stations in the dataset\n",
    "session.query(Measurement.station).count()"
   ]
  },
  {
   "cell_type": "code",
   "execution_count": 105,
   "metadata": {},
   "outputs": [
    {
     "data": {
      "text/plain": [
       "datetime.date(2016, 8, 23)"
      ]
     },
     "execution_count": 105,
     "metadata": {},
     "output_type": "execute_result"
    }
   ],
   "source": [
    "#calculate year ago\n",
    "year_ago = dt.date(2017, 8, 23)- dt.timedelta(days=365)\n",
    "year_ago"
   ]
  },
  {
   "cell_type": "code",
   "execution_count": 110,
   "metadata": {},
   "outputs": [
    {
     "data": {
      "text/plain": [
       "[('USC00519281', 2772),\n",
       " ('USC00519397', 2724),\n",
       " ('USC00513117', 2709),\n",
       " ('USC00519523', 2669),\n",
       " ('USC00516128', 2612),\n",
       " ('USC00514830', 2202),\n",
       " ('USC00511918', 1979),\n",
       " ('USC00517948', 1372),\n",
       " ('USC00518838', 511)]"
      ]
     },
     "execution_count": 110,
     "metadata": {},
     "output_type": "execute_result"
    }
   ],
   "source": [
    "# Design a query to find the most active stations (i.e. what stations have the most rows?)\n",
    "# List the stations and the counts in descending order.\n",
    "session.query(Measurement.station, func.count(Measurement.date)).\\\n",
    "group_by(Measurement.station).order_by(func.count(Measurement.id).desc()).all()"
   ]
  },
  {
   "cell_type": "code",
   "execution_count": 111,
   "metadata": {},
   "outputs": [
    {
     "data": {
      "text/plain": [
       "[(53.0, 87.0, 73.09795396419437)]"
      ]
     },
     "execution_count": 111,
     "metadata": {},
     "output_type": "execute_result"
    }
   ],
   "source": [
    "# Using the most active station id from the previous query, calculate the lowest, highest, and average temperature.\n",
    "session.query(func.min(Measurement.tobs), func.max(Measurement.tobs), func.avg(Measurement.tobs)).all()"
   ]
  },
  {
   "cell_type": "code",
   "execution_count": 122,
   "metadata": {},
   "outputs": [],
   "source": [
    "# Using the most active station id\n",
    "# Query the last 12 months of temperature observation data for this station \n",
    "result= session.query(Measurement.tobs, Measurement.date).\\\n",
    "filter(Measurement.station =='USC00519281').\\\n",
    "filter(Measurement.date >= year_ago).all()"
   ]
  },
  {
   "cell_type": "code",
   "execution_count": 123,
   "metadata": {},
   "outputs": [
    {
     "data": {
      "text/plain": [
       "[(77.0, '2016-08-23'),\n",
       " (77.0, '2016-08-24'),\n",
       " (80.0, '2016-08-25'),\n",
       " (80.0, '2016-08-26'),\n",
       " (75.0, '2016-08-27'),\n",
       " (73.0, '2016-08-28'),\n",
       " (78.0, '2016-08-29'),\n",
       " (77.0, '2016-08-30'),\n",
       " (78.0, '2016-08-31'),\n",
       " (80.0, '2016-09-01'),\n",
       " (80.0, '2016-09-02'),\n",
       " (78.0, '2016-09-03'),\n",
       " (78.0, '2016-09-04'),\n",
       " (78.0, '2016-09-05'),\n",
       " (73.0, '2016-09-06'),\n",
       " (74.0, '2016-09-07'),\n",
       " (80.0, '2016-09-08'),\n",
       " (79.0, '2016-09-09'),\n",
       " (77.0, '2016-09-10'),\n",
       " (80.0, '2016-09-11'),\n",
       " (76.0, '2016-09-12'),\n",
       " (79.0, '2016-09-13'),\n",
       " (75.0, '2016-09-14'),\n",
       " (79.0, '2016-09-15'),\n",
       " (78.0, '2016-09-16'),\n",
       " (79.0, '2016-09-17'),\n",
       " (78.0, '2016-09-18'),\n",
       " (78.0, '2016-09-19'),\n",
       " (76.0, '2016-09-20'),\n",
       " (74.0, '2016-09-21'),\n",
       " (77.0, '2016-09-22'),\n",
       " (78.0, '2016-09-23'),\n",
       " (79.0, '2016-09-24'),\n",
       " (79.0, '2016-09-25'),\n",
       " (77.0, '2016-09-26'),\n",
       " (80.0, '2016-09-27'),\n",
       " (78.0, '2016-09-28'),\n",
       " (78.0, '2016-09-29'),\n",
       " (78.0, '2016-09-30'),\n",
       " (77.0, '2016-10-01'),\n",
       " (79.0, '2016-10-02'),\n",
       " (79.0, '2016-10-03'),\n",
       " (79.0, '2016-10-04'),\n",
       " (79.0, '2016-10-05'),\n",
       " (75.0, '2016-10-06'),\n",
       " (76.0, '2016-10-07'),\n",
       " (73.0, '2016-10-08'),\n",
       " (72.0, '2016-10-09'),\n",
       " (71.0, '2016-10-10'),\n",
       " (77.0, '2016-10-11'),\n",
       " (79.0, '2016-10-12'),\n",
       " (78.0, '2016-10-13'),\n",
       " (79.0, '2016-10-14'),\n",
       " (77.0, '2016-10-15'),\n",
       " (79.0, '2016-10-16'),\n",
       " (77.0, '2016-10-17'),\n",
       " (78.0, '2016-10-18'),\n",
       " (78.0, '2016-10-19'),\n",
       " (78.0, '2016-10-20'),\n",
       " (78.0, '2016-10-21'),\n",
       " (77.0, '2016-10-22'),\n",
       " (74.0, '2016-10-23'),\n",
       " (75.0, '2016-10-24'),\n",
       " (76.0, '2016-10-25'),\n",
       " (73.0, '2016-10-26'),\n",
       " (76.0, '2016-10-27'),\n",
       " (74.0, '2016-10-28'),\n",
       " (77.0, '2016-10-29'),\n",
       " (76.0, '2016-10-30'),\n",
       " (76.0, '2016-10-31'),\n",
       " (74.0, '2016-11-01'),\n",
       " (75.0, '2016-11-02'),\n",
       " (75.0, '2016-11-03'),\n",
       " (75.0, '2016-11-04'),\n",
       " (75.0, '2016-11-05'),\n",
       " (71.0, '2016-11-06'),\n",
       " (63.0, '2016-11-07'),\n",
       " (70.0, '2016-11-08'),\n",
       " (68.0, '2016-11-09'),\n",
       " (67.0, '2016-11-10'),\n",
       " (77.0, '2016-11-11'),\n",
       " (74.0, '2016-11-12'),\n",
       " (77.0, '2016-11-13'),\n",
       " (76.0, '2016-11-14'),\n",
       " (76.0, '2016-11-15'),\n",
       " (75.0, '2016-11-16'),\n",
       " (76.0, '2016-11-17'),\n",
       " (75.0, '2016-11-18'),\n",
       " (73.0, '2016-11-19'),\n",
       " (75.0, '2016-11-20'),\n",
       " (73.0, '2016-11-21'),\n",
       " (75.0, '2016-11-22'),\n",
       " (74.0, '2016-11-23'),\n",
       " (75.0, '2016-11-24'),\n",
       " (74.0, '2016-11-25'),\n",
       " (75.0, '2016-11-26'),\n",
       " (73.0, '2016-11-27'),\n",
       " (75.0, '2016-11-28'),\n",
       " (73.0, '2016-11-29'),\n",
       " (73.0, '2016-11-30'),\n",
       " (74.0, '2016-12-01'),\n",
       " (70.0, '2016-12-02'),\n",
       " (72.0, '2016-12-03'),\n",
       " (70.0, '2016-12-04'),\n",
       " (67.0, '2016-12-05'),\n",
       " (67.0, '2016-12-06'),\n",
       " (69.0, '2016-12-07'),\n",
       " (70.0, '2016-12-08'),\n",
       " (68.0, '2016-12-09'),\n",
       " (69.0, '2016-12-10'),\n",
       " (69.0, '2016-12-11'),\n",
       " (66.0, '2016-12-12'),\n",
       " (65.0, '2016-12-13'),\n",
       " (68.0, '2016-12-14'),\n",
       " (62.0, '2016-12-15'),\n",
       " (75.0, '2016-12-16'),\n",
       " (70.0, '2016-12-17'),\n",
       " (69.0, '2016-12-18'),\n",
       " (76.0, '2016-12-19'),\n",
       " (76.0, '2016-12-20'),\n",
       " (74.0, '2016-12-21'),\n",
       " (73.0, '2016-12-22'),\n",
       " (71.0, '2016-12-23'),\n",
       " (74.0, '2016-12-24'),\n",
       " (74.0, '2016-12-25'),\n",
       " (72.0, '2016-12-26'),\n",
       " (71.0, '2016-12-27'),\n",
       " (72.0, '2016-12-28'),\n",
       " (74.0, '2016-12-29'),\n",
       " (69.0, '2016-12-30'),\n",
       " (67.0, '2016-12-31'),\n",
       " (72.0, '2017-01-01'),\n",
       " (70.0, '2017-01-02'),\n",
       " (64.0, '2017-01-03'),\n",
       " (63.0, '2017-01-04'),\n",
       " (63.0, '2017-01-05'),\n",
       " (62.0, '2017-01-06'),\n",
       " (70.0, '2017-01-07'),\n",
       " (70.0, '2017-01-08'),\n",
       " (62.0, '2017-01-09'),\n",
       " (62.0, '2017-01-10'),\n",
       " (63.0, '2017-01-11'),\n",
       " (65.0, '2017-01-12'),\n",
       " (69.0, '2017-01-13'),\n",
       " (77.0, '2017-01-14'),\n",
       " (70.0, '2017-01-15'),\n",
       " (74.0, '2017-01-16'),\n",
       " (69.0, '2017-01-17'),\n",
       " (72.0, '2017-01-18'),\n",
       " (71.0, '2017-01-19'),\n",
       " (69.0, '2017-01-20'),\n",
       " (71.0, '2017-01-21'),\n",
       " (71.0, '2017-01-22'),\n",
       " (72.0, '2017-01-23'),\n",
       " (72.0, '2017-01-24'),\n",
       " (69.0, '2017-01-25'),\n",
       " (70.0, '2017-01-26'),\n",
       " (66.0, '2017-01-27'),\n",
       " (65.0, '2017-01-28'),\n",
       " (69.0, '2017-01-29'),\n",
       " (68.0, '2017-01-30'),\n",
       " (68.0, '2017-01-31'),\n",
       " (68.0, '2017-02-01'),\n",
       " (59.0, '2017-02-02'),\n",
       " (60.0, '2017-02-03'),\n",
       " (70.0, '2017-02-04'),\n",
       " (73.0, '2017-02-05'),\n",
       " (75.0, '2017-02-06'),\n",
       " (64.0, '2017-02-07'),\n",
       " (59.0, '2017-02-08'),\n",
       " (59.0, '2017-02-09'),\n",
       " (62.0, '2017-02-10'),\n",
       " (68.0, '2017-02-11'),\n",
       " (70.0, '2017-02-12'),\n",
       " (73.0, '2017-02-13'),\n",
       " (79.0, '2017-02-14'),\n",
       " (75.0, '2017-02-15'),\n",
       " (65.0, '2017-02-16'),\n",
       " (70.0, '2017-02-17'),\n",
       " (74.0, '2017-02-18'),\n",
       " (70.0, '2017-02-19'),\n",
       " (70.0, '2017-02-20'),\n",
       " (71.0, '2017-02-21'),\n",
       " (71.0, '2017-02-22'),\n",
       " (71.0, '2017-02-23'),\n",
       " (69.0, '2017-02-24'),\n",
       " (61.0, '2017-02-25'),\n",
       " (67.0, '2017-02-26'),\n",
       " (65.0, '2017-02-27'),\n",
       " (72.0, '2017-02-28'),\n",
       " (71.0, '2017-03-01'),\n",
       " (73.0, '2017-03-02'),\n",
       " (72.0, '2017-03-03'),\n",
       " (77.0, '2017-03-04'),\n",
       " (73.0, '2017-03-05'),\n",
       " (67.0, '2017-03-06'),\n",
       " (62.0, '2017-03-07'),\n",
       " (64.0, '2017-03-08'),\n",
       " (67.0, '2017-03-09'),\n",
       " (66.0, '2017-03-10'),\n",
       " (81.0, '2017-03-11'),\n",
       " (69.0, '2017-03-12'),\n",
       " (66.0, '2017-03-13'),\n",
       " (67.0, '2017-03-14'),\n",
       " (69.0, '2017-03-15'),\n",
       " (66.0, '2017-03-16'),\n",
       " (68.0, '2017-03-17'),\n",
       " (65.0, '2017-03-18'),\n",
       " (74.0, '2017-03-19'),\n",
       " (69.0, '2017-03-20'),\n",
       " (72.0, '2017-03-21'),\n",
       " (73.0, '2017-03-22'),\n",
       " (72.0, '2017-03-23'),\n",
       " (71.0, '2017-03-24'),\n",
       " (76.0, '2017-03-25'),\n",
       " (77.0, '2017-03-26'),\n",
       " (76.0, '2017-03-27'),\n",
       " (74.0, '2017-03-28'),\n",
       " (68.0, '2017-03-29'),\n",
       " (73.0, '2017-03-30'),\n",
       " (71.0, '2017-03-31'),\n",
       " (74.0, '2017-04-01'),\n",
       " (75.0, '2017-04-02'),\n",
       " (70.0, '2017-04-03'),\n",
       " (67.0, '2017-04-04'),\n",
       " (71.0, '2017-04-05'),\n",
       " (67.0, '2017-04-06'),\n",
       " (74.0, '2017-04-07'),\n",
       " (77.0, '2017-04-08'),\n",
       " (78.0, '2017-04-09'),\n",
       " (67.0, '2017-04-10'),\n",
       " (70.0, '2017-04-11'),\n",
       " (69.0, '2017-04-12'),\n",
       " (69.0, '2017-04-13'),\n",
       " (74.0, '2017-04-14'),\n",
       " (78.0, '2017-04-15'),\n",
       " (71.0, '2017-04-16'),\n",
       " (67.0, '2017-04-17'),\n",
       " (68.0, '2017-04-18'),\n",
       " (67.0, '2017-04-19'),\n",
       " (76.0, '2017-04-20'),\n",
       " (69.0, '2017-04-21'),\n",
       " (72.0, '2017-04-22'),\n",
       " (76.0, '2017-04-23'),\n",
       " (68.0, '2017-04-24'),\n",
       " (72.0, '2017-04-25'),\n",
       " (74.0, '2017-04-26'),\n",
       " (70.0, '2017-04-27'),\n",
       " (67.0, '2017-04-28'),\n",
       " (72.0, '2017-04-29'),\n",
       " (60.0, '2017-04-30'),\n",
       " (65.0, '2017-05-01'),\n",
       " (75.0, '2017-05-02'),\n",
       " (70.0, '2017-05-03'),\n",
       " (75.0, '2017-05-04'),\n",
       " (70.0, '2017-05-05'),\n",
       " (79.0, '2017-05-06'),\n",
       " (75.0, '2017-05-07'),\n",
       " (70.0, '2017-05-08'),\n",
       " (67.0, '2017-05-09'),\n",
       " (74.0, '2017-05-10'),\n",
       " (70.0, '2017-05-11'),\n",
       " (75.0, '2017-05-12'),\n",
       " (76.0, '2017-05-13'),\n",
       " (77.0, '2017-05-14'),\n",
       " (74.0, '2017-05-15'),\n",
       " (74.0, '2017-05-16'),\n",
       " (74.0, '2017-05-17'),\n",
       " (69.0, '2017-05-18'),\n",
       " (68.0, '2017-05-19'),\n",
       " (76.0, '2017-05-20'),\n",
       " (74.0, '2017-05-21'),\n",
       " (71.0, '2017-05-22'),\n",
       " (71.0, '2017-05-23'),\n",
       " (74.0, '2017-05-24'),\n",
       " (74.0, '2017-05-25'),\n",
       " (74.0, '2017-05-26'),\n",
       " (74.0, '2017-05-27'),\n",
       " (80.0, '2017-05-28'),\n",
       " (74.0, '2017-05-29'),\n",
       " (72.0, '2017-05-30'),\n",
       " (75.0, '2017-05-31'),\n",
       " (80.0, '2017-06-01'),\n",
       " (76.0, '2017-06-02'),\n",
       " (76.0, '2017-06-03'),\n",
       " (77.0, '2017-06-04'),\n",
       " (75.0, '2017-06-05'),\n",
       " (75.0, '2017-06-06'),\n",
       " (75.0, '2017-06-07'),\n",
       " (75.0, '2017-06-08'),\n",
       " (72.0, '2017-06-09'),\n",
       " (74.0, '2017-06-10'),\n",
       " (74.0, '2017-06-11'),\n",
       " (74.0, '2017-06-12'),\n",
       " (76.0, '2017-06-13'),\n",
       " (74.0, '2017-06-14'),\n",
       " (75.0, '2017-06-15'),\n",
       " (73.0, '2017-06-16'),\n",
       " (79.0, '2017-06-17'),\n",
       " (75.0, '2017-06-18'),\n",
       " (72.0, '2017-06-19'),\n",
       " (72.0, '2017-06-20'),\n",
       " (74.0, '2017-06-21'),\n",
       " (72.0, '2017-06-22'),\n",
       " (72.0, '2017-06-23'),\n",
       " (77.0, '2017-06-24'),\n",
       " (71.0, '2017-06-25'),\n",
       " (73.0, '2017-06-26'),\n",
       " (76.0, '2017-06-27'),\n",
       " (77.0, '2017-06-28'),\n",
       " (76.0, '2017-06-29'),\n",
       " (76.0, '2017-06-30'),\n",
       " (79.0, '2017-07-01'),\n",
       " (81.0, '2017-07-02'),\n",
       " (76.0, '2017-07-03'),\n",
       " (78.0, '2017-07-04'),\n",
       " (77.0, '2017-07-05'),\n",
       " (74.0, '2017-07-06'),\n",
       " (75.0, '2017-07-07'),\n",
       " (78.0, '2017-07-08'),\n",
       " (78.0, '2017-07-09'),\n",
       " (69.0, '2017-07-10'),\n",
       " (72.0, '2017-07-11'),\n",
       " (74.0, '2017-07-12'),\n",
       " (74.0, '2017-07-13'),\n",
       " (76.0, '2017-07-14'),\n",
       " (80.0, '2017-07-15'),\n",
       " (80.0, '2017-07-16'),\n",
       " (76.0, '2017-07-17'),\n",
       " (76.0, '2017-07-18'),\n",
       " (76.0, '2017-07-19'),\n",
       " (77.0, '2017-07-20'),\n",
       " (77.0, '2017-07-21'),\n",
       " (77.0, '2017-07-22'),\n",
       " (82.0, '2017-07-23'),\n",
       " (75.0, '2017-07-24'),\n",
       " (77.0, '2017-07-25'),\n",
       " (75.0, '2017-07-26'),\n",
       " (76.0, '2017-07-27'),\n",
       " (81.0, '2017-07-28'),\n",
       " (82.0, '2017-07-29'),\n",
       " (81.0, '2017-07-30'),\n",
       " (76.0, '2017-07-31'),\n",
       " (77.0, '2017-08-04'),\n",
       " (82.0, '2017-08-05'),\n",
       " (83.0, '2017-08-06'),\n",
       " (77.0, '2017-08-13'),\n",
       " (77.0, '2017-08-14'),\n",
       " (77.0, '2017-08-15'),\n",
       " (76.0, '2017-08-16'),\n",
       " (76.0, '2017-08-17'),\n",
       " (79.0, '2017-08-18')]"
      ]
     },
     "execution_count": 123,
     "metadata": {},
     "output_type": "execute_result"
    }
   ],
   "source": [
    "result"
   ]
  },
  {
   "cell_type": "code",
   "execution_count": 124,
   "metadata": {},
   "outputs": [
    {
     "name": "stdout",
     "output_type": "stream",
     "text": [
      "[77.0, 77.0, 80.0, 80.0, 75.0, 73.0, 78.0, 77.0, 78.0, 80.0, 80.0, 78.0, 78.0, 78.0, 73.0, 74.0, 80.0, 79.0, 77.0, 80.0, 76.0, 79.0, 75.0, 79.0, 78.0, 79.0, 78.0, 78.0, 76.0, 74.0, 77.0, 78.0, 79.0, 79.0, 77.0, 80.0, 78.0, 78.0, 78.0, 77.0, 79.0, 79.0, 79.0, 79.0, 75.0, 76.0, 73.0, 72.0, 71.0, 77.0, 79.0, 78.0, 79.0, 77.0, 79.0, 77.0, 78.0, 78.0, 78.0, 78.0, 77.0, 74.0, 75.0, 76.0, 73.0, 76.0, 74.0, 77.0, 76.0, 76.0, 74.0, 75.0, 75.0, 75.0, 75.0, 71.0, 63.0, 70.0, 68.0, 67.0, 77.0, 74.0, 77.0, 76.0, 76.0, 75.0, 76.0, 75.0, 73.0, 75.0, 73.0, 75.0, 74.0, 75.0, 74.0, 75.0, 73.0, 75.0, 73.0, 73.0, 74.0, 70.0, 72.0, 70.0, 67.0, 67.0, 69.0, 70.0, 68.0, 69.0, 69.0, 66.0, 65.0, 68.0, 62.0, 75.0, 70.0, 69.0, 76.0, 76.0, 74.0, 73.0, 71.0, 74.0, 74.0, 72.0, 71.0, 72.0, 74.0, 69.0, 67.0, 72.0, 70.0, 64.0, 63.0, 63.0, 62.0, 70.0, 70.0, 62.0, 62.0, 63.0, 65.0, 69.0, 77.0, 70.0, 74.0, 69.0, 72.0, 71.0, 69.0, 71.0, 71.0, 72.0, 72.0, 69.0, 70.0, 66.0, 65.0, 69.0, 68.0, 68.0, 68.0, 59.0, 60.0, 70.0, 73.0, 75.0, 64.0, 59.0, 59.0, 62.0, 68.0, 70.0, 73.0, 79.0, 75.0, 65.0, 70.0, 74.0, 70.0, 70.0, 71.0, 71.0, 71.0, 69.0, 61.0, 67.0, 65.0, 72.0, 71.0, 73.0, 72.0, 77.0, 73.0, 67.0, 62.0, 64.0, 67.0, 66.0, 81.0, 69.0, 66.0, 67.0, 69.0, 66.0, 68.0, 65.0, 74.0, 69.0, 72.0, 73.0, 72.0, 71.0, 76.0, 77.0, 76.0, 74.0, 68.0, 73.0, 71.0, 74.0, 75.0, 70.0, 67.0, 71.0, 67.0, 74.0, 77.0, 78.0, 67.0, 70.0, 69.0, 69.0, 74.0, 78.0, 71.0, 67.0, 68.0, 67.0, 76.0, 69.0, 72.0, 76.0, 68.0, 72.0, 74.0, 70.0, 67.0, 72.0, 60.0, 65.0, 75.0, 70.0, 75.0, 70.0, 79.0, 75.0, 70.0, 67.0, 74.0, 70.0, 75.0, 76.0, 77.0, 74.0, 74.0, 74.0, 69.0, 68.0, 76.0, 74.0, 71.0, 71.0, 74.0, 74.0, 74.0, 74.0, 80.0, 74.0, 72.0, 75.0, 80.0, 76.0, 76.0, 77.0, 75.0, 75.0, 75.0, 75.0, 72.0, 74.0, 74.0, 74.0, 76.0, 74.0, 75.0, 73.0, 79.0, 75.0, 72.0, 72.0, 74.0, 72.0, 72.0, 77.0, 71.0, 73.0, 76.0, 77.0, 76.0, 76.0, 79.0, 81.0, 76.0, 78.0, 77.0, 74.0, 75.0, 78.0, 78.0, 69.0, 72.0, 74.0, 74.0, 76.0, 80.0, 80.0, 76.0, 76.0, 76.0, 77.0, 77.0, 77.0, 82.0, 75.0, 77.0, 75.0, 76.0, 81.0, 82.0, 81.0, 76.0, 77.0, 82.0, 83.0, 77.0, 77.0, 77.0, 76.0, 76.0, 79.0]\n"
     ]
    }
   ],
   "source": [
    "#creat temperature list for the histagram\n",
    "tobs_list =[]\n",
    "for tobs in result:\n",
    "    if type(tobs.tobs) == float:\n",
    "        tobs_list.append(tobs.tobs)\n",
    "\n",
    "print(tobs_list)"
   ]
  },
  {
   "cell_type": "code",
   "execution_count": 125,
   "metadata": {
    "scrolled": true
   },
   "outputs": [
    {
     "data": {
      "image/png": "[encoded data removed]",
      "text/plain": [
       "<Figure size 432x288 with 1 Axes>"
      ]
     },
     "metadata": {},
     "output_type": "display_data"
    }
   ],
   "source": [
    "#plot the results as a histogram\n",
    "\n",
    "plt.hist(tobs_list, bins=12, align=\"mid\")\n",
    "plt.xlabel(\"temperature\")\n",
    "plt.ylabel(\"Frequency\")\n",
    "plt.legend(['tobs'], loc= \"upper right\")\n",
    "plt.show()\n"
   ]
  },
  {
   "cell_type": "markdown",
   "metadata": {},
   "source": [
    "# Close session"
   ]
  },
  {
   "cell_type": "code",
   "execution_count": null,
   "metadata": {},
   "outputs": [],
   "source": [
    "# Close Session\n",
    "session.close()"
   ]
  },
  {
   "cell_type": "code",
   "execution_count": null,
   "metadata": {},
   "outputs": [],
   "source": []
  }
 ],
 "metadata": {
  "anaconda-cloud": {},
  "kernel_info": {
   "name": "python3"
  },
  "kernelspec": {
   "display_name": "Python 3 (ipykernel)",
   "language": "python",
   "name": "python3"
  },
  "language_info": {
   "codemirror_mode": {
    "name": "ipython",
    "version": 3
   },
   "file_extension": ".py",
   "mimetype": "text/x-python",
   "name": "python",
   "nbconvert_exporter": "python",
   "pygments_lexer": "ipython3",
   "version": "3.9.7"
  },
  "nteract": {
   "version": "0.12.3"
  },
  "varInspector": {
   "cols": {
    "lenName": 16,
    "lenType": 16,
    "lenVar": 40
   },
   "kernels_config": {
    "python": {
     "delete_cmd_postfix": "",
     "delete_cmd_prefix": "del ",
     "library": "var_list.py",
     "varRefreshCmd": "print(var_dic_list())"
    },
    "r": {
     "delete_cmd_postfix": ") ",
     "delete_cmd_prefix": "rm(",
     "library": "var_list.r",
     "varRefreshCmd": "cat(var_dic_list()) "
    }
   },
   "types_to_exclude": [
    "module",
    "function",
    "builtin_function_or_method",
    "instance",
    "_Feature"
   ],
   "window_display": false
  }
 },
 "nbformat": 4,
 "nbformat_minor": 2
}
